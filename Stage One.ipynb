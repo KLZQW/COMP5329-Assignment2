{
 "cells": [
  {
   "cell_type": "code",
   "execution_count": 1,
   "metadata": {},
   "outputs": [],
   "source": [
    "import pandas as pd"
   ]
  },
  {
   "cell_type": "markdown",
   "metadata": {},
   "source": [
    "## Small Dataset"
   ]
  },
  {
   "cell_type": "code",
   "execution_count": null,
   "metadata": {},
   "outputs": [],
   "source": [
    "df = pd.read_csv('/Users/huyilun/Desktop/amazon_reviews_us_Music_v1_00.tsv', sep='\\t', error_bad_lines=False)\n",
    "a = df[:1]\n",
    "#a.to_csv('/Users/huyilun/Desktop/20000.tsv', sep=\"\\t\")"
   ]
  },
  {
   "cell_type": "markdown",
   "metadata": {},
   "source": [
    "## Total Number"
   ]
  },
  {
   "cell_type": "code",
   "execution_count": 2,
   "metadata": {},
   "outputs": [],
   "source": [
    "def convert_format(file):\n",
    "    df = pd.read_csv(file, sep='\\t', error_bad_lines=False)\n",
    "    return df\n",
    "\n",
    "def total_numbers(dataframe):\n",
    "    review_id = dataframe[\"review_id\"]\n",
    "    customer_id = dataframe[\"customer_id\"]\n",
    "    product_id = dataframe[\"product_id\"]\n",
    "    r_count = review_id.drop_duplicates().count()\n",
    "    c_count = customer_id.drop_duplicates().count()\n",
    "    p_count = product_id.drop_duplicates().count()\n",
    "    return r_count, c_count, p_count"
   ]
  },
  {
   "cell_type": "code",
   "execution_count": 3,
   "metadata": {},
   "outputs": [
    {
     "name": "stdout",
     "output_type": "stream",
     "text": [
      "Total number of reviews: 20000\n",
      "Total number of customers: 12076\n",
      "Total number of products: 15567\n",
      "CPU times: user 132 ms, sys: 23.7 ms, total: 156 ms\n",
      "Wall time: 162 ms\n"
     ]
    }
   ],
   "source": [
    "%%time\n",
    "df = convert_format('/Users/huyilun/Desktop/20000.tsv')\n",
    "r, c, p = total_numbers(df)\n",
    "print (\"Total number of reviews:\", r)\n",
    "print (\"Total number of customers:\", c)\n",
    "print (\"Total number of products:\", p)"
   ]
  },
  {
   "cell_type": "markdown",
   "metadata": {},
   "source": [
    "## User_Reviews & Product_Reviews"
   ]
  },
  {
   "cell_type": "code",
   "execution_count": 4,
   "metadata": {},
   "outputs": [],
   "source": [
    "import findspark\n",
    "findspark.init()\n",
    "from pyspark import SparkContext\n",
    "import argparse"
   ]
  },
  {
   "cell_type": "code",
   "execution_count": 5,
   "metadata": {},
   "outputs": [],
   "source": [
    "sc = SparkContext(appName=\"Stage One: Overall Statistics\")\n",
    "parser = argparse.ArgumentParser()\n",
    "AllData = sc.textFile(\"/Users/huyilun/Desktop/20000.tsv\")\n",
    "data1 = AllData.filter(lambda x: 'customer_id' not in x)"
   ]
  },
  {
   "cell_type": "code",
   "execution_count": 6,
   "metadata": {},
   "outputs": [],
   "source": [
    "def user_reviews(file):\n",
    "    parts = file.split(\"\\t\")\n",
    "    customer_id = parts[2]\n",
    "    review_id = parts[3]\n",
    "    return (customer_id), (review_id)\n",
    "\n",
    "def product_reviews(file):\n",
    "    parts = file.split(\"\\t\")\n",
    "    product_id = parts[4]\n",
    "    review_id = parts[3]\n",
    "    return (product_id), (review_id)\n",
    "\n",
    "def apartData(line):\n",
    "    target = line[0]\n",
    "    num_reviews = len(line[1])\n",
    "    return (target, num_reviews)\n",
    "\n",
    "def reviews_extract(line):\n",
    "    total_review = line[1]\n",
    "    return (total_review)\n",
    "\n",
    "def median(data):\n",
    "    review_list = data.collect()\n",
    "    total = len(review_list)\n",
    "    if total%2 > 0:\n",
    "        return review_list[int(total/2) + 1]\n",
    "    else:\n",
    "        return (review_list[int(total/2)] + review_list[int(total/2) + 1]) / 2"
   ]
  },
  {
   "cell_type": "code",
   "execution_count": 7,
   "metadata": {},
   "outputs": [],
   "source": [
    "data2 = data1.map(user_reviews)\n",
    "data3 = data2.groupByKey().mapValues(tuple)\n",
    "data4 = data3.map(apartData)\n",
    "data5 = data4.sortBy(lambda x: (1 - x[1]))\n",
    "lagest_review_user = data5.take(1)[0][1] # Answer 2.1\n",
    "ten_top_reviews_users = data5.take(10) # Answer 2.2\n",
    "data6 = data5.map(reviews_extract)\n",
    "user_median_review = median(data6) # Answer 2.3"
   ]
  },
  {
   "cell_type": "code",
   "execution_count": null,
   "metadata": {},
   "outputs": [],
   "source": [
    "data7 = data1.map(product_reviews)\n",
    "data8 = data7.groupByKey().mapValues(tuple)\n",
    "data9 = data8.map(apartData)\n",
    "data10 = data9.sortBy(lambda x: (1 - x[1]))\n",
    "lagest_review_product = data10.take(1)[0][1] # Answer 3.1\n",
    "ten_top_reviews_products = data10.take(10) # Answer 3.2\n",
    "data11 = data10.map(reviews_extract)\n",
    "product_median_review = median(data11) # Answer 3.3"
   ]
  },
  {
   "cell_type": "code",
   "execution_count": 11,
   "metadata": {},
   "outputs": [
    {
     "data": {
      "text/plain": [
       "12145"
      ]
     },
     "execution_count": 11,
     "metadata": {},
     "output_type": "execute_result"
    }
   ],
   "source": [
    "data3.count()"
   ]
  },
  {
   "cell_type": "code",
   "execution_count": null,
   "metadata": {},
   "outputs": [],
   "source": [
    "lagest_review_user"
   ]
  },
  {
   "cell_type": "code",
   "execution_count": null,
   "metadata": {},
   "outputs": [],
   "source": [
    "ten_top_reviews_users"
   ]
  },
  {
   "cell_type": "code",
   "execution_count": null,
   "metadata": {},
   "outputs": [],
   "source": [
    "user_median_review"
   ]
  },
  {
   "cell_type": "code",
   "execution_count": null,
   "metadata": {},
   "outputs": [],
   "source": [
    "lagest_review_product"
   ]
  },
  {
   "cell_type": "code",
   "execution_count": null,
   "metadata": {},
   "outputs": [],
   "source": [
    "ten_top_reviews_products"
   ]
  },
  {
   "cell_type": "code",
   "execution_count": null,
   "metadata": {},
   "outputs": [],
   "source": [
    "product_median_review"
   ]
  },
  {
   "cell_type": "code",
   "execution_count": null,
   "metadata": {},
   "outputs": [],
   "source": []
  }
 ],
 "metadata": {
  "kernelspec": {
   "display_name": "Python 3",
   "language": "python",
   "name": "python3"
  },
  "language_info": {
   "codemirror_mode": {
    "name": "ipython",
    "version": 3
   },
   "file_extension": ".py",
   "mimetype": "text/x-python",
   "name": "python",
   "nbconvert_exporter": "python",
   "pygments_lexer": "ipython3",
   "version": "3.6.5"
  }
 },
 "nbformat": 4,
 "nbformat_minor": 2
}
